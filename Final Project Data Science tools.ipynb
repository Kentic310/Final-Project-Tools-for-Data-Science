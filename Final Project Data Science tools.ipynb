{
 "cells": [
  {
   "cell_type": "markdown",
   "id": "0648a6d9",
   "metadata": {},
   "source": [
    "Final Project - Tools for Data Science"
   ]
  },
  {
   "cell_type": "markdown",
   "id": "b670ca47-645a-4170-9c0d-4ad3cbed1acc",
   "metadata": {},
   "source": [
    "A final project of how to use multiple tools in Data Science. Using Jupyter Notebook for Various Tasks in Data Science and Sharing via Githubs."
   ]
  },
  {
   "cell_type": "markdown",
   "id": "198e05f8-c155-4d62-a398-7a575600fb09",
   "metadata": {},
   "source": [
    "Data Science Languages\n",
    "- Python\n",
    "- R\n",
    "- SQL"
   ]
  },
  {
   "cell_type": "markdown",
   "id": "a5f2be74-a936-4c90-a088-84d2386ec76f",
   "metadata": {},
   "source": [
    "Data Science Libraries\n",
    "- Pandas\n",
    "- NumPy\n",
    "- Matplotlib\n"
   ]
  },
  {
   "cell_type": "markdown",
   "id": "02d4f2ae-5a4b-40d2-a890-873bf27a1290",
   "metadata": {},
   "source": [
    "Data Science Tools\n",
    "| Tool            | Purpose                          |\n",
    "|-----------------|----------------------------------|\n",
    "| Jupyter         | Interactive notebook environment |\n",
    "| RStudio         | Integrated development for R     |\n",
    "| Apache Spark    | Large-scale data processing      |\n"
   ]
  },
  {
   "cell_type": "markdown",
   "id": "1faa3a8e-81d2-48a8-b033-d9e6ba3e127e",
   "metadata": {},
   "source": [
    "Arithmetic Expressions\n",
    "This section demonstrates basic arithmetic expressions in Python.\n"
   ]
  },
  {
   "cell_type": "code",
   "execution_count": 5,
   "id": "086585c8-f190-42de-bd1a-9dd0bf7c728a",
   "metadata": {},
   "outputs": [
    {
     "name": "stdout",
     "output_type": "stream",
     "text": [
      "Result is: 13\n"
     ]
    }
   ],
   "source": [
    "#Example of Multiplication and Addition \n",
    "x = 5 * 2 + 3\n",
    "print(\"Result is:\", x)\n"
   ]
  },
  {
   "cell_type": "code",
   "execution_count": 3,
   "id": "f0acba72-1d86-45fd-8334-4edb45f02a41",
   "metadata": {},
   "outputs": [
    {
     "name": "stdout",
     "output_type": "stream",
     "text": [
      "120 minutes is equal to 2.0 hours.\n"
     ]
    }
   ],
   "source": [
    "# Converting minutes to hours\n",
    "minutes = 120\n",
    "hrs = minutes / 60\n",
    "print(f\"{minutes} minutes is equal to {hrs} hours.\")\n"
   ]
  },
  {
   "cell_type": "markdown",
   "id": "a8834278-0e65-418a-900a-1e20a3d72244",
   "metadata": {},
   "source": [
    "Objectives\n",
    "- Learned how to use Jupyterlite Notebook.\n",
    "- Practice markdown.\n",
    "- Share a notebook publicly using GitHub.\n"
   ]
  },
  {
   "cell_type": "markdown",
   "id": "827fdd95-054f-412c-8304-b7555283372e",
   "metadata": {},
   "source": [
    "Author\n",
    "Kenneth Agyemang Akuffo"
   ]
  }
 ],
 "metadata": {
  "kernelspec": {
   "display_name": "Python [conda env:base] *",
   "language": "python",
   "name": "conda-base-py"
  },
  "language_info": {
   "codemirror_mode": {
    "name": "ipython",
    "version": 3
   },
   "file_extension": ".py",
   "mimetype": "text/x-python",
   "name": "python",
   "nbconvert_exporter": "python",
   "pygments_lexer": "ipython3",
   "version": "3.12.7"
  }
 },
 "nbformat": 4,
 "nbformat_minor": 5
}
